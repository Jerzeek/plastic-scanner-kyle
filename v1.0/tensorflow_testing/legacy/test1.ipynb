{
 "cells": [
  {
   "cell_type": "markdown",
   "metadata": {},
   "source": [
    "Testing a preliminary HDPE, LDPE & PP dataset"
   ]
  },
  {
   "cell_type": "code",
   "execution_count": 149,
   "metadata": {},
   "outputs": [],
   "source": [
    "# Step 1 Load the Data\n",
    "import pandas as pd\n",
    "import tensorflow as tf\n",
    "from sklearn.preprocessing import LabelEncoder\n",
    "from sklearn.model_selection import train_test_split\n",
    "\n",
    "# Load the data from the concatenated CSV file\n",
    "data = pd.read_csv(\"allTogether.csv\")"
   ]
  },
  {
   "cell_type": "code",
   "execution_count": 150,
   "metadata": {},
   "outputs": [],
   "source": [
    "#Step 2: Prepare the Data\n",
    "# Extract features (IR wavelength values) and target (plastic type labels)\n",
    "features = data.drop(\"Plastic_Type\", axis=1)\n",
    "labels = data[\"Plastic_Type\"]\n",
    "\n",
    "# Handle negative values (e.g., by normalization)\n",
    "features = (features - features.min()) / (features.max() - features.min())\n"
   ]
  },
  {
   "cell_type": "code",
   "execution_count": 151,
   "metadata": {},
   "outputs": [],
   "source": [
    "# Step 3: Encode the Target Labels\n",
    "# Use Label Encoding to convert target labels into numerical values\n",
    "label_encoder = LabelEncoder()\n",
    "encoded_labels = label_encoder.fit_transform(labels)\n",
    "\n",
    "# Encode the target labels into one-hot encoded format\n",
    "encoded_labels = tf.keras.utils.to_categorical(encoded_labels, num_classes=4)  # 4 classes (3 plastics + \"other\")\n"
   ]
  },
  {
   "cell_type": "code",
   "execution_count": 152,
   "metadata": {},
   "outputs": [],
   "source": [
    "# Step 4: Split the Data into Training and Testing Sets\n",
    "# Split the data into training and testing sets (80% training, 20% testing)\n",
    "X_train, X_test, y_train, y_test = train_test_split(features, encoded_labels, test_size=0.2, random_state=42)"
   ]
  },
  {
   "cell_type": "code",
   "execution_count": 153,
   "metadata": {},
   "outputs": [],
   "source": [
    "# Step 5: Build the TensorFlow Model\n",
    "# Build the model\n",
    "model = tf.keras.Sequential([\n",
    "    tf.keras.layers.Input(shape=(8,)),\n",
    "    tf.keras.layers.Dense(64, activation='relu'),\n",
    "    tf.keras.layers.Dense(32, activation='relu'),\n",
    "    tf.keras.layers.Dense(4, activation='softmax')  # 4 output units for 3 plastic types and \"other\"\n",
    "])\n",
    "\n",
    "# Compile the model with categorical_crossentropy loss\n",
    "model.compile(loss='categorical_crossentropy', optimizer='adam', metrics=['accuracy'])\n",
    "\n",
    "# Early stopping callback\n",
    "early_stopping = tf.keras.callbacks.EarlyStopping(patience=10, restore_best_weights=True)\n"
   ]
  },
  {
   "cell_type": "code",
   "execution_count": 154,
   "metadata": {},
   "outputs": [
    {
     "name": "stdout",
     "output_type": "stream",
     "text": [
      "Epoch 1/200\n",
      "3/3 [==============================] - 1s 118ms/step - loss: 1.4683 - accuracy: 0.2208 - val_loss: 1.4054 - val_accuracy: 0.3333\n",
      "Epoch 2/200\n",
      "3/3 [==============================] - 0s 20ms/step - loss: 1.4097 - accuracy: 0.3247 - val_loss: 1.3620 - val_accuracy: 0.3333\n",
      "Epoch 3/200\n",
      "3/3 [==============================] - 0s 19ms/step - loss: 1.3649 - accuracy: 0.3247 - val_loss: 1.3313 - val_accuracy: 0.4444\n",
      "Epoch 4/200\n",
      "3/3 [==============================] - 0s 26ms/step - loss: 1.3328 - accuracy: 0.4935 - val_loss: 1.3063 - val_accuracy: 0.7778\n",
      "Epoch 5/200\n",
      "3/3 [==============================] - 0s 20ms/step - loss: 1.3051 - accuracy: 0.5844 - val_loss: 1.2848 - val_accuracy: 0.7778\n",
      "Epoch 6/200\n",
      "3/3 [==============================] - 0s 23ms/step - loss: 1.2815 - accuracy: 0.5714 - val_loss: 1.2655 - val_accuracy: 0.7778\n",
      "Epoch 7/200\n",
      "3/3 [==============================] - 0s 23ms/step - loss: 1.2592 - accuracy: 0.5844 - val_loss: 1.2473 - val_accuracy: 0.7778\n",
      "Epoch 8/200\n",
      "3/3 [==============================] - 0s 20ms/step - loss: 1.2393 - accuracy: 0.5974 - val_loss: 1.2303 - val_accuracy: 0.7778\n",
      "Epoch 9/200\n",
      "3/3 [==============================] - 0s 32ms/step - loss: 1.2207 - accuracy: 0.6104 - val_loss: 1.2130 - val_accuracy: 0.7778\n",
      "Epoch 10/200\n",
      "3/3 [==============================] - 0s 24ms/step - loss: 1.2003 - accuracy: 0.6234 - val_loss: 1.1984 - val_accuracy: 0.7778\n",
      "Epoch 11/200\n",
      "3/3 [==============================] - 0s 21ms/step - loss: 1.1811 - accuracy: 0.6494 - val_loss: 1.1842 - val_accuracy: 0.6667\n",
      "Epoch 12/200\n",
      "3/3 [==============================] - 0s 23ms/step - loss: 1.1611 - accuracy: 0.6883 - val_loss: 1.1696 - val_accuracy: 0.6667\n",
      "Epoch 13/200\n",
      "3/3 [==============================] - 0s 22ms/step - loss: 1.1410 - accuracy: 0.7143 - val_loss: 1.1550 - val_accuracy: 0.6667\n",
      "Epoch 14/200\n",
      "3/3 [==============================] - 0s 26ms/step - loss: 1.1203 - accuracy: 0.7143 - val_loss: 1.1413 - val_accuracy: 0.6667\n",
      "Epoch 15/200\n",
      "3/3 [==============================] - 0s 38ms/step - loss: 1.0989 - accuracy: 0.6883 - val_loss: 1.1280 - val_accuracy: 0.6667\n",
      "Epoch 16/200\n",
      "3/3 [==============================] - 0s 29ms/step - loss: 1.0774 - accuracy: 0.6883 - val_loss: 1.1167 - val_accuracy: 0.6667\n",
      "Epoch 17/200\n",
      "3/3 [==============================] - 0s 22ms/step - loss: 1.0560 - accuracy: 0.7013 - val_loss: 1.1042 - val_accuracy: 0.6667\n",
      "Epoch 18/200\n",
      "3/3 [==============================] - 0s 20ms/step - loss: 1.0332 - accuracy: 0.7273 - val_loss: 1.0922 - val_accuracy: 0.5556\n",
      "Epoch 19/200\n",
      "3/3 [==============================] - 0s 26ms/step - loss: 1.0093 - accuracy: 0.7403 - val_loss: 1.0789 - val_accuracy: 0.4444\n",
      "Epoch 20/200\n",
      "3/3 [==============================] - 0s 29ms/step - loss: 0.9882 - accuracy: 0.7013 - val_loss: 1.0668 - val_accuracy: 0.5556\n",
      "Epoch 21/200\n",
      "3/3 [==============================] - 0s 27ms/step - loss: 0.9658 - accuracy: 0.7143 - val_loss: 1.0516 - val_accuracy: 0.5556\n",
      "Epoch 22/200\n",
      "3/3 [==============================] - 0s 25ms/step - loss: 0.9451 - accuracy: 0.7143 - val_loss: 1.0348 - val_accuracy: 0.5556\n",
      "Epoch 23/200\n",
      "3/3 [==============================] - 0s 27ms/step - loss: 0.9219 - accuracy: 0.7143 - val_loss: 1.0159 - val_accuracy: 0.5556\n",
      "Epoch 24/200\n",
      "3/3 [==============================] - 0s 28ms/step - loss: 0.9004 - accuracy: 0.7013 - val_loss: 0.9995 - val_accuracy: 0.5556\n",
      "Epoch 25/200\n",
      "3/3 [==============================] - 0s 21ms/step - loss: 0.8799 - accuracy: 0.7013 - val_loss: 0.9822 - val_accuracy: 0.5556\n",
      "Epoch 26/200\n",
      "3/3 [==============================] - 0s 22ms/step - loss: 0.8583 - accuracy: 0.6883 - val_loss: 0.9641 - val_accuracy: 0.4444\n",
      "Epoch 27/200\n",
      "3/3 [==============================] - 0s 25ms/step - loss: 0.8390 - accuracy: 0.7273 - val_loss: 0.9481 - val_accuracy: 0.4444\n",
      "Epoch 28/200\n",
      "3/3 [==============================] - 0s 18ms/step - loss: 0.8203 - accuracy: 0.7273 - val_loss: 0.9338 - val_accuracy: 0.4444\n",
      "Epoch 29/200\n",
      "3/3 [==============================] - 0s 25ms/step - loss: 0.8005 - accuracy: 0.7273 - val_loss: 0.9192 - val_accuracy: 0.4444\n",
      "Epoch 30/200\n",
      "3/3 [==============================] - 0s 20ms/step - loss: 0.7806 - accuracy: 0.7273 - val_loss: 0.9033 - val_accuracy: 0.4444\n",
      "Epoch 31/200\n",
      "3/3 [==============================] - 0s 22ms/step - loss: 0.7615 - accuracy: 0.7273 - val_loss: 0.8886 - val_accuracy: 0.5556\n",
      "Epoch 32/200\n",
      "3/3 [==============================] - 0s 21ms/step - loss: 0.7419 - accuracy: 0.7273 - val_loss: 0.8772 - val_accuracy: 0.5556\n",
      "Epoch 33/200\n",
      "3/3 [==============================] - 0s 21ms/step - loss: 0.7247 - accuracy: 0.7403 - val_loss: 0.8656 - val_accuracy: 0.5556\n",
      "Epoch 34/200\n",
      "3/3 [==============================] - 0s 22ms/step - loss: 0.7083 - accuracy: 0.7662 - val_loss: 0.8538 - val_accuracy: 0.5556\n",
      "Epoch 35/200\n",
      "3/3 [==============================] - 0s 26ms/step - loss: 0.6930 - accuracy: 0.7532 - val_loss: 0.8384 - val_accuracy: 0.5556\n",
      "Epoch 36/200\n",
      "3/3 [==============================] - 0s 24ms/step - loss: 0.6769 - accuracy: 0.7532 - val_loss: 0.8199 - val_accuracy: 0.5556\n",
      "Epoch 37/200\n",
      "3/3 [==============================] - 0s 21ms/step - loss: 0.6618 - accuracy: 0.7662 - val_loss: 0.8035 - val_accuracy: 0.5556\n",
      "Epoch 38/200\n",
      "3/3 [==============================] - 0s 21ms/step - loss: 0.6480 - accuracy: 0.7273 - val_loss: 0.7919 - val_accuracy: 0.5556\n",
      "Epoch 39/200\n",
      "3/3 [==============================] - 0s 18ms/step - loss: 0.6348 - accuracy: 0.7143 - val_loss: 0.7810 - val_accuracy: 0.5556\n",
      "Epoch 40/200\n",
      "3/3 [==============================] - 0s 20ms/step - loss: 0.6210 - accuracy: 0.7143 - val_loss: 0.7709 - val_accuracy: 0.5556\n",
      "Epoch 41/200\n",
      "3/3 [==============================] - 0s 19ms/step - loss: 0.6089 - accuracy: 0.7273 - val_loss: 0.7610 - val_accuracy: 0.5556\n",
      "Epoch 42/200\n",
      "3/3 [==============================] - 0s 19ms/step - loss: 0.5965 - accuracy: 0.7403 - val_loss: 0.7541 - val_accuracy: 0.5556\n",
      "Epoch 43/200\n",
      "3/3 [==============================] - 0s 20ms/step - loss: 0.5858 - accuracy: 0.7532 - val_loss: 0.7492 - val_accuracy: 0.5556\n",
      "Epoch 44/200\n",
      "3/3 [==============================] - 0s 19ms/step - loss: 0.5769 - accuracy: 0.7532 - val_loss: 0.7467 - val_accuracy: 0.6667\n",
      "Epoch 45/200\n",
      "3/3 [==============================] - 0s 20ms/step - loss: 0.5681 - accuracy: 0.7532 - val_loss: 0.7398 - val_accuracy: 0.6667\n",
      "Epoch 46/200\n",
      "3/3 [==============================] - 0s 23ms/step - loss: 0.5573 - accuracy: 0.7532 - val_loss: 0.7251 - val_accuracy: 0.5556\n",
      "Epoch 47/200\n",
      "3/3 [==============================] - 0s 22ms/step - loss: 0.5476 - accuracy: 0.7403 - val_loss: 0.7087 - val_accuracy: 0.5556\n",
      "Epoch 48/200\n",
      "3/3 [==============================] - 0s 19ms/step - loss: 0.5418 - accuracy: 0.7403 - val_loss: 0.6965 - val_accuracy: 0.5556\n",
      "Epoch 49/200\n",
      "3/3 [==============================] - 0s 18ms/step - loss: 0.5352 - accuracy: 0.7532 - val_loss: 0.6941 - val_accuracy: 0.4444\n",
      "Epoch 50/200\n",
      "3/3 [==============================] - 0s 16ms/step - loss: 0.5269 - accuracy: 0.7532 - val_loss: 0.6937 - val_accuracy: 0.5556\n",
      "Epoch 51/200\n",
      "3/3 [==============================] - 0s 20ms/step - loss: 0.5188 - accuracy: 0.7403 - val_loss: 0.6922 - val_accuracy: 0.5556\n",
      "Epoch 52/200\n",
      "3/3 [==============================] - 0s 17ms/step - loss: 0.5111 - accuracy: 0.7532 - val_loss: 0.6970 - val_accuracy: 0.6667\n",
      "Epoch 53/200\n",
      "3/3 [==============================] - 0s 19ms/step - loss: 0.5093 - accuracy: 0.7532 - val_loss: 0.7022 - val_accuracy: 0.6667\n",
      "Epoch 54/200\n",
      "3/3 [==============================] - 0s 19ms/step - loss: 0.5049 - accuracy: 0.7662 - val_loss: 0.6839 - val_accuracy: 0.6667\n",
      "Epoch 55/200\n",
      "3/3 [==============================] - 0s 18ms/step - loss: 0.4958 - accuracy: 0.7662 - val_loss: 0.6766 - val_accuracy: 0.6667\n",
      "Epoch 56/200\n",
      "3/3 [==============================] - 0s 20ms/step - loss: 0.4894 - accuracy: 0.7662 - val_loss: 0.6629 - val_accuracy: 0.5556\n",
      "Epoch 57/200\n",
      "3/3 [==============================] - 0s 16ms/step - loss: 0.4856 - accuracy: 0.7532 - val_loss: 0.6560 - val_accuracy: 0.5556\n",
      "Epoch 58/200\n",
      "3/3 [==============================] - 0s 16ms/step - loss: 0.4803 - accuracy: 0.7662 - val_loss: 0.6576 - val_accuracy: 0.5556\n",
      "Epoch 59/200\n",
      "3/3 [==============================] - 0s 19ms/step - loss: 0.4762 - accuracy: 0.7532 - val_loss: 0.6623 - val_accuracy: 0.6667\n",
      "Epoch 60/200\n",
      "3/3 [==============================] - 0s 18ms/step - loss: 0.4724 - accuracy: 0.7662 - val_loss: 0.6614 - val_accuracy: 0.6667\n",
      "Epoch 61/200\n",
      "3/3 [==============================] - 0s 18ms/step - loss: 0.4671 - accuracy: 0.7662 - val_loss: 0.6511 - val_accuracy: 0.6667\n",
      "Epoch 62/200\n",
      "3/3 [==============================] - 0s 18ms/step - loss: 0.4613 - accuracy: 0.7792 - val_loss: 0.6497 - val_accuracy: 0.6667\n",
      "Epoch 63/200\n",
      "3/3 [==============================] - 0s 21ms/step - loss: 0.4575 - accuracy: 0.7922 - val_loss: 0.6486 - val_accuracy: 0.6667\n",
      "Epoch 64/200\n",
      "3/3 [==============================] - 0s 17ms/step - loss: 0.4535 - accuracy: 0.8052 - val_loss: 0.6512 - val_accuracy: 0.6667\n",
      "Epoch 65/200\n",
      "3/3 [==============================] - 0s 22ms/step - loss: 0.4482 - accuracy: 0.8182 - val_loss: 0.6488 - val_accuracy: 0.6667\n",
      "Epoch 66/200\n",
      "3/3 [==============================] - 0s 21ms/step - loss: 0.4454 - accuracy: 0.8182 - val_loss: 0.6480 - val_accuracy: 0.6667\n",
      "Epoch 67/200\n",
      "3/3 [==============================] - 0s 18ms/step - loss: 0.4415 - accuracy: 0.8182 - val_loss: 0.6496 - val_accuracy: 0.6667\n",
      "Epoch 68/200\n",
      "3/3 [==============================] - 0s 20ms/step - loss: 0.4361 - accuracy: 0.8182 - val_loss: 0.6600 - val_accuracy: 0.5556\n",
      "Epoch 69/200\n",
      "3/3 [==============================] - 0s 23ms/step - loss: 0.4341 - accuracy: 0.7922 - val_loss: 0.6631 - val_accuracy: 0.5556\n",
      "Epoch 70/200\n",
      "3/3 [==============================] - 0s 18ms/step - loss: 0.4296 - accuracy: 0.8052 - val_loss: 0.6503 - val_accuracy: 0.5556\n",
      "Epoch 71/200\n",
      "3/3 [==============================] - 0s 20ms/step - loss: 0.4273 - accuracy: 0.7922 - val_loss: 0.6354 - val_accuracy: 0.6667\n",
      "Epoch 72/200\n",
      "3/3 [==============================] - 0s 20ms/step - loss: 0.4218 - accuracy: 0.8182 - val_loss: 0.6394 - val_accuracy: 0.5556\n",
      "Epoch 73/200\n",
      "3/3 [==============================] - 0s 17ms/step - loss: 0.4181 - accuracy: 0.8182 - val_loss: 0.6375 - val_accuracy: 0.5556\n",
      "Epoch 74/200\n",
      "3/3 [==============================] - 0s 19ms/step - loss: 0.4147 - accuracy: 0.8182 - val_loss: 0.6377 - val_accuracy: 0.5556\n",
      "Epoch 75/200\n",
      "3/3 [==============================] - 0s 20ms/step - loss: 0.4111 - accuracy: 0.8182 - val_loss: 0.6400 - val_accuracy: 0.5556\n",
      "Epoch 76/200\n",
      "3/3 [==============================] - 0s 22ms/step - loss: 0.4075 - accuracy: 0.8442 - val_loss: 0.6422 - val_accuracy: 0.5556\n",
      "Epoch 77/200\n",
      "3/3 [==============================] - 0s 18ms/step - loss: 0.4065 - accuracy: 0.8571 - val_loss: 0.6407 - val_accuracy: 0.5556\n",
      "Epoch 78/200\n",
      "3/3 [==============================] - 0s 19ms/step - loss: 0.4018 - accuracy: 0.8442 - val_loss: 0.6555 - val_accuracy: 0.5556\n",
      "Epoch 79/200\n",
      "3/3 [==============================] - 0s 21ms/step - loss: 0.4000 - accuracy: 0.8182 - val_loss: 0.6537 - val_accuracy: 0.5556\n",
      "Epoch 80/200\n",
      "3/3 [==============================] - 0s 26ms/step - loss: 0.3966 - accuracy: 0.8571 - val_loss: 0.6389 - val_accuracy: 0.5556\n",
      "Epoch 81/200\n",
      "3/3 [==============================] - 0s 21ms/step - loss: 0.3919 - accuracy: 0.8701 - val_loss: 0.6402 - val_accuracy: 0.5556\n"
     ]
    },
    {
     "data": {
      "text/plain": [
       "<keras.src.callbacks.History at 0x229f5dcc280>"
      ]
     },
     "execution_count": 154,
     "metadata": {},
     "output_type": "execute_result"
    }
   ],
   "source": [
    "# Step 6: Train the Model\n",
    "model.fit(X_train, y_train, epochs=200, batch_size=32, validation_split=0.1, callbacks=[early_stopping])\n"
   ]
  },
  {
   "cell_type": "code",
   "execution_count": 155,
   "metadata": {},
   "outputs": [
    {
     "name": "stdout",
     "output_type": "stream",
     "text": [
      "1/1 [==============================] - 0s 34ms/step - loss: 0.4940 - accuracy: 0.7727\n",
      "Test Accuracy: 0.7727\n"
     ]
    }
   ],
   "source": [
    "# Step 7: Evaluate the Model\n",
    "loss, accuracy = model.evaluate(X_test, y_test)\n",
    "print(f\"Test Accuracy: {accuracy:.4f}\")"
   ]
  },
  {
   "cell_type": "code",
   "execution_count": 156,
   "metadata": {},
   "outputs": [
    {
     "name": "stdout",
     "output_type": "stream",
     "text": [
      "1/1 [==============================] - 0s 66ms/step\n",
      "Plastic Type Probabilities:\n",
      "HDPE: 0.0\n",
      "LDPE: 0.0\n",
      "PP: 1.0\n",
      "Other: 0.0\n"
     ]
    }
   ],
   "source": [
    "# Step 8: Make predictions\n",
    "new_data = pd.DataFrame({\n",
    "    \"IR_Wavelength_1\": [761.33],\n",
    "    \"IR_Wavelength_2\": [3897.67],\n",
    "    \"IR_Wavelength_3\": [8964],\n",
    "    \"IR_Wavelength_4\": [11729.33],\n",
    "    \"IR_Wavelength_5\": [11358.67],\n",
    "    \"IR_Wavelength_6\": [8942.33],\n",
    "    \"IR_Wavelength_7\": [4617.33],\n",
    "    \"IR_Wavelength_8\": [3227]\n",
    "})\n",
    "\n",
    "# Preprocess the new data (e.g., normalization) and predict the plastic type probabilities\n",
    "new_data_normalized = (new_data - features.min()) / (features.max() - features.min())\n",
    "predictions = model.predict(new_data_normalized)\n",
    "\n",
    "# Decode the predictions to get the plastic type probabilities\n",
    "plastic_type_probabilities = predictions[0][:3]  # First three elements are the probabilities for HDPE, LDPE, and PE\n",
    "other_probability = predictions[0][3]  # Fourth element is the probability for \"other\"\n",
    "\n",
    "print(\"Plastic Type Probabilities:\")\n",
    "print(\"HDPE:\", plastic_type_probabilities[0])\n",
    "print(\"LDPE:\", plastic_type_probabilities[1])\n",
    "print(\"PP:\", plastic_type_probabilities[2])\n",
    "print(\"Other:\", other_probability)"
   ]
  }
 ],
 "metadata": {
  "kernelspec": {
   "display_name": "Python 3",
   "language": "python",
   "name": "python3"
  },
  "language_info": {
   "codemirror_mode": {
    "name": "ipython",
    "version": 3
   },
   "file_extension": ".py",
   "mimetype": "text/x-python",
   "name": "python",
   "nbconvert_exporter": "python",
   "pygments_lexer": "ipython3",
   "version": "3.10.6"
  },
  "orig_nbformat": 4
 },
 "nbformat": 4,
 "nbformat_minor": 2
}
