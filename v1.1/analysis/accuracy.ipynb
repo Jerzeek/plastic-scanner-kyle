{
 "cells": [
  {
   "cell_type": "code",
   "execution_count": 2,
   "metadata": {},
   "outputs": [],
   "source": [
    "import csv\n",
    "import numpy as np\n",
    "\n",
    "data = []\n",
    "with open('accuracy dark.csv', 'r') as csvfile:\n",
    "    csvreader = csv.reader(csvfile)\n",
    "    for row in csvreader:\n",
    "        numeric_row = [float(cell) for cell in row]\n",
    "        data.append(numeric_row)\n"
   ]
  },
  {
   "cell_type": "code",
   "execution_count": 5,
   "metadata": {},
   "outputs": [
    {
     "name": "stdout",
     "output_type": "stream",
     "text": [
      "-1252.0\n",
      "1784.0\n",
      "3036.0\n"
     ]
    }
   ],
   "source": [
    "min_value = np.min(data)\n",
    "max_value = np.max(data)\n",
    "data_range = max_value - min_value\n",
    "\n",
    "print(min_value)\n",
    "print(max_value)\n",
    "print(data_range)"
   ]
  },
  {
   "cell_type": "code",
   "execution_count": 7,
   "metadata": {},
   "outputs": [
    {
     "name": "stdout",
     "output_type": "stream",
     "text": [
      "-256.0\n",
      "73.0\n",
      "430.0\n"
     ]
    }
   ],
   "source": [
    "Q1 = np.percentile(data, 25)\n",
    "Q2 = np.percentile(data, 50)  # This is the median\n",
    "Q3 = np.percentile(data, 75)\n",
    "\n",
    "print(Q1)\n",
    "print(Q2)\n",
    "print(Q3)"
   ]
  },
  {
   "cell_type": "code",
   "execution_count": 14,
   "metadata": {},
   "outputs": [
    {
     "ename": "TypeError",
     "evalue": "unsupported operand type(s) for /: 'ellipsis' and 'int'",
     "output_type": "error",
     "traceback": [
      "\u001b[1;31m---------------------------------------------------------------------------\u001b[0m",
      "\u001b[1;31mTypeError\u001b[0m                                 Traceback (most recent call last)",
      "\u001b[1;32mc:\\Users\\kylej\\dev\\plastic-scanner\\v1.1\\accuracy\\accuracy.ipynb Cell 4\u001b[0m line \u001b[0;36m4\n\u001b[0;32m      <a href='vscode-notebook-cell:/c%3A/Users/kylej/dev/plastic-scanner/v1.1/accuracy/accuracy.ipynb#W3sZmlsZQ%3D%3D?line=0'>1</a>\u001b[0m \u001b[39mimport\u001b[39;00m \u001b[39mmatplotlib\u001b[39;00m\u001b[39m.\u001b[39;00m\u001b[39mpyplot\u001b[39;00m \u001b[39mas\u001b[39;00m \u001b[39mplt\u001b[39;00m\n\u001b[0;32m      <a href='vscode-notebook-cell:/c%3A/Users/kylej/dev/plastic-scanner/v1.1/accuracy/accuracy.ipynb#W3sZmlsZQ%3D%3D?line=1'>2</a>\u001b[0m data \u001b[39m=\u001b[39m np\u001b[39m.\u001b[39marray(data)\u001b[39m.\u001b[39mT\u001b[39m.\u001b[39mtolist()\n\u001b[1;32m----> <a href='vscode-notebook-cell:/c%3A/Users/kylej/dev/plastic-scanner/v1.1/accuracy/accuracy.ipynb#W3sZmlsZQ%3D%3D?line=3'>4</a>\u001b[0m plt\u001b[39m.\u001b[39;49mboxplot(data, vert\u001b[39m=\u001b[39;49m\u001b[39mFalse\u001b[39;49;00m)  \u001b[39m# vert=False makes it a horizontal box plot\u001b[39;00m\n\u001b[0;32m      <a href='vscode-notebook-cell:/c%3A/Users/kylej/dev/plastic-scanner/v1.1/accuracy/accuracy.ipynb#W3sZmlsZQ%3D%3D?line=4'>5</a>\u001b[0m plt\u001b[39m.\u001b[39mtitle(\u001b[39m'\u001b[39m\u001b[39mBox Plot\u001b[39m\u001b[39m'\u001b[39m)\n\u001b[0;32m      <a href='vscode-notebook-cell:/c%3A/Users/kylej/dev/plastic-scanner/v1.1/accuracy/accuracy.ipynb#W3sZmlsZQ%3D%3D?line=5'>6</a>\u001b[0m plt\u001b[39m.\u001b[39mxlabel(\u001b[39m'\u001b[39m\u001b[39mValue\u001b[39m\u001b[39m'\u001b[39m)\n",
      "File \u001b[1;32mc:\\Users\\kylej\\AppData\\Local\\Programs\\Python\\Python310\\lib\\site-packages\\matplotlib\\pyplot.py:2483\u001b[0m, in \u001b[0;36mboxplot\u001b[1;34m(x, notch, sym, vert, whis, positions, widths, patch_artist, bootstrap, usermedians, conf_intervals, meanline, showmeans, showcaps, showbox, showfliers, boxprops, labels, flierprops, medianprops, meanprops, capprops, whiskerprops, manage_ticks, autorange, zorder, capwidths, data)\u001b[0m\n\u001b[0;32m   2473\u001b[0m \u001b[39m@_copy_docstring_and_deprecators\u001b[39m(Axes\u001b[39m.\u001b[39mboxplot)\n\u001b[0;32m   2474\u001b[0m \u001b[39mdef\u001b[39;00m \u001b[39mboxplot\u001b[39m(\n\u001b[0;32m   2475\u001b[0m         x, notch\u001b[39m=\u001b[39m\u001b[39mNone\u001b[39;00m, sym\u001b[39m=\u001b[39m\u001b[39mNone\u001b[39;00m, vert\u001b[39m=\u001b[39m\u001b[39mNone\u001b[39;00m, whis\u001b[39m=\u001b[39m\u001b[39mNone\u001b[39;00m,\n\u001b[1;32m   (...)\u001b[0m\n\u001b[0;32m   2481\u001b[0m         whiskerprops\u001b[39m=\u001b[39m\u001b[39mNone\u001b[39;00m, manage_ticks\u001b[39m=\u001b[39m\u001b[39mTrue\u001b[39;00m, autorange\u001b[39m=\u001b[39m\u001b[39mFalse\u001b[39;00m,\n\u001b[0;32m   2482\u001b[0m         zorder\u001b[39m=\u001b[39m\u001b[39mNone\u001b[39;00m, capwidths\u001b[39m=\u001b[39m\u001b[39mNone\u001b[39;00m, \u001b[39m*\u001b[39m, data\u001b[39m=\u001b[39m\u001b[39mNone\u001b[39;00m):\n\u001b[1;32m-> 2483\u001b[0m     \u001b[39mreturn\u001b[39;00m gca()\u001b[39m.\u001b[39mboxplot(\n\u001b[0;32m   2484\u001b[0m         x, notch\u001b[39m=\u001b[39mnotch, sym\u001b[39m=\u001b[39msym, vert\u001b[39m=\u001b[39mvert, whis\u001b[39m=\u001b[39mwhis,\n\u001b[0;32m   2485\u001b[0m         positions\u001b[39m=\u001b[39mpositions, widths\u001b[39m=\u001b[39mwidths, patch_artist\u001b[39m=\u001b[39mpatch_artist,\n\u001b[0;32m   2486\u001b[0m         bootstrap\u001b[39m=\u001b[39mbootstrap, usermedians\u001b[39m=\u001b[39musermedians,\n\u001b[0;32m   2487\u001b[0m         conf_intervals\u001b[39m=\u001b[39mconf_intervals, meanline\u001b[39m=\u001b[39mmeanline,\n\u001b[0;32m   2488\u001b[0m         showmeans\u001b[39m=\u001b[39mshowmeans, showcaps\u001b[39m=\u001b[39mshowcaps, showbox\u001b[39m=\u001b[39mshowbox,\n\u001b[0;32m   2489\u001b[0m         showfliers\u001b[39m=\u001b[39mshowfliers, boxprops\u001b[39m=\u001b[39mboxprops, labels\u001b[39m=\u001b[39mlabels,\n\u001b[0;32m   2490\u001b[0m         flierprops\u001b[39m=\u001b[39mflierprops, medianprops\u001b[39m=\u001b[39mmedianprops,\n\u001b[0;32m   2491\u001b[0m         meanprops\u001b[39m=\u001b[39mmeanprops, capprops\u001b[39m=\u001b[39mcapprops,\n\u001b[0;32m   2492\u001b[0m         whiskerprops\u001b[39m=\u001b[39mwhiskerprops, manage_ticks\u001b[39m=\u001b[39mmanage_ticks,\n\u001b[0;32m   2493\u001b[0m         autorange\u001b[39m=\u001b[39mautorange, zorder\u001b[39m=\u001b[39mzorder, capwidths\u001b[39m=\u001b[39mcapwidths,\n\u001b[0;32m   2494\u001b[0m         \u001b[39m*\u001b[39m\u001b[39m*\u001b[39m({\u001b[39m\"\u001b[39m\u001b[39mdata\u001b[39m\u001b[39m\"\u001b[39m: data} \u001b[39mif\u001b[39;00m data \u001b[39mis\u001b[39;00m \u001b[39mnot\u001b[39;00m \u001b[39mNone\u001b[39;00m \u001b[39melse\u001b[39;00m {}))\n",
      "File \u001b[1;32mc:\\Users\\kylej\\AppData\\Local\\Programs\\Python\\Python310\\lib\\site-packages\\matplotlib\\__init__.py:1461\u001b[0m, in \u001b[0;36m_preprocess_data.<locals>.inner\u001b[1;34m(ax, data, *args, **kwargs)\u001b[0m\n\u001b[0;32m   1458\u001b[0m \u001b[39m@functools\u001b[39m\u001b[39m.\u001b[39mwraps(func)\n\u001b[0;32m   1459\u001b[0m \u001b[39mdef\u001b[39;00m \u001b[39minner\u001b[39m(ax, \u001b[39m*\u001b[39margs, data\u001b[39m=\u001b[39m\u001b[39mNone\u001b[39;00m, \u001b[39m*\u001b[39m\u001b[39m*\u001b[39mkwargs):\n\u001b[0;32m   1460\u001b[0m     \u001b[39mif\u001b[39;00m data \u001b[39mis\u001b[39;00m \u001b[39mNone\u001b[39;00m:\n\u001b[1;32m-> 1461\u001b[0m         \u001b[39mreturn\u001b[39;00m func(ax, \u001b[39m*\u001b[39m\u001b[39mmap\u001b[39m(sanitize_sequence, args), \u001b[39m*\u001b[39m\u001b[39m*\u001b[39mkwargs)\n\u001b[0;32m   1463\u001b[0m     bound \u001b[39m=\u001b[39m new_sig\u001b[39m.\u001b[39mbind(ax, \u001b[39m*\u001b[39margs, \u001b[39m*\u001b[39m\u001b[39m*\u001b[39mkwargs)\n\u001b[0;32m   1464\u001b[0m     auto_label \u001b[39m=\u001b[39m (bound\u001b[39m.\u001b[39marguments\u001b[39m.\u001b[39mget(label_namer)\n\u001b[0;32m   1465\u001b[0m                   \u001b[39mor\u001b[39;00m bound\u001b[39m.\u001b[39mkwargs\u001b[39m.\u001b[39mget(label_namer))\n",
      "File \u001b[1;32mc:\\Users\\kylej\\AppData\\Local\\Programs\\Python\\Python310\\lib\\site-packages\\matplotlib\\axes\\_axes.py:3908\u001b[0m, in \u001b[0;36mAxes.boxplot\u001b[1;34m(self, x, notch, sym, vert, whis, positions, widths, patch_artist, bootstrap, usermedians, conf_intervals, meanline, showmeans, showcaps, showbox, showfliers, boxprops, labels, flierprops, medianprops, meanprops, capprops, whiskerprops, manage_ticks, autorange, zorder, capwidths)\u001b[0m\n\u001b[0;32m   3905\u001b[0m \u001b[39mif\u001b[39;00m bootstrap \u001b[39mis\u001b[39;00m \u001b[39mNone\u001b[39;00m:\n\u001b[0;32m   3906\u001b[0m     bootstrap \u001b[39m=\u001b[39m mpl\u001b[39m.\u001b[39mrcParams[\u001b[39m'\u001b[39m\u001b[39mboxplot.bootstrap\u001b[39m\u001b[39m'\u001b[39m]\n\u001b[1;32m-> 3908\u001b[0m bxpstats \u001b[39m=\u001b[39m cbook\u001b[39m.\u001b[39;49mboxplot_stats(x, whis\u001b[39m=\u001b[39;49mwhis, bootstrap\u001b[39m=\u001b[39;49mbootstrap,\n\u001b[0;32m   3909\u001b[0m                                labels\u001b[39m=\u001b[39;49mlabels, autorange\u001b[39m=\u001b[39;49mautorange)\n\u001b[0;32m   3910\u001b[0m \u001b[39mif\u001b[39;00m notch \u001b[39mis\u001b[39;00m \u001b[39mNone\u001b[39;00m:\n\u001b[0;32m   3911\u001b[0m     notch \u001b[39m=\u001b[39m mpl\u001b[39m.\u001b[39mrcParams[\u001b[39m'\u001b[39m\u001b[39mboxplot.notch\u001b[39m\u001b[39m'\u001b[39m]\n",
      "File \u001b[1;32mc:\\Users\\kylej\\AppData\\Local\\Programs\\Python\\Python310\\lib\\site-packages\\matplotlib\\cbook\\__init__.py:1237\u001b[0m, in \u001b[0;36mboxplot_stats\u001b[1;34m(X, whis, bootstrap, labels, autorange)\u001b[0m\n\u001b[0;32m   1234\u001b[0m x \u001b[39m=\u001b[39m np\u001b[39m.\u001b[39masarray(x)\n\u001b[0;32m   1236\u001b[0m \u001b[39m# arithmetic mean\u001b[39;00m\n\u001b[1;32m-> 1237\u001b[0m stats[\u001b[39m'\u001b[39m\u001b[39mmean\u001b[39m\u001b[39m'\u001b[39m] \u001b[39m=\u001b[39m np\u001b[39m.\u001b[39;49mmean(x)\n\u001b[0;32m   1239\u001b[0m \u001b[39m# medians and quartiles\u001b[39;00m\n\u001b[0;32m   1240\u001b[0m q1, med, q3 \u001b[39m=\u001b[39m np\u001b[39m.\u001b[39mpercentile(x, [\u001b[39m25\u001b[39m, \u001b[39m50\u001b[39m, \u001b[39m75\u001b[39m])\n",
      "File \u001b[1;32m<__array_function__ internals>:200\u001b[0m, in \u001b[0;36mmean\u001b[1;34m(*args, **kwargs)\u001b[0m\n",
      "File \u001b[1;32mc:\\Users\\kylej\\AppData\\Local\\Programs\\Python\\Python310\\lib\\site-packages\\numpy\\core\\fromnumeric.py:3464\u001b[0m, in \u001b[0;36mmean\u001b[1;34m(a, axis, dtype, out, keepdims, where)\u001b[0m\n\u001b[0;32m   3461\u001b[0m     \u001b[39melse\u001b[39;00m:\n\u001b[0;32m   3462\u001b[0m         \u001b[39mreturn\u001b[39;00m mean(axis\u001b[39m=\u001b[39maxis, dtype\u001b[39m=\u001b[39mdtype, out\u001b[39m=\u001b[39mout, \u001b[39m*\u001b[39m\u001b[39m*\u001b[39mkwargs)\n\u001b[1;32m-> 3464\u001b[0m \u001b[39mreturn\u001b[39;00m _methods\u001b[39m.\u001b[39m_mean(a, axis\u001b[39m=\u001b[39maxis, dtype\u001b[39m=\u001b[39mdtype,\n\u001b[0;32m   3465\u001b[0m                       out\u001b[39m=\u001b[39mout, \u001b[39m*\u001b[39m\u001b[39m*\u001b[39mkwargs)\n",
      "File \u001b[1;32mc:\\Users\\kylej\\AppData\\Local\\Programs\\Python\\Python310\\lib\\site-packages\\numpy\\core\\_methods.py:194\u001b[0m, in \u001b[0;36m_mean\u001b[1;34m(a, axis, dtype, out, keepdims, where)\u001b[0m\n\u001b[0;32m    192\u001b[0m         ret \u001b[39m=\u001b[39m ret\u001b[39m.\u001b[39mdtype\u001b[39m.\u001b[39mtype(ret \u001b[39m/\u001b[39m rcount)\n\u001b[0;32m    193\u001b[0m \u001b[39melse\u001b[39;00m:\n\u001b[1;32m--> 194\u001b[0m     ret \u001b[39m=\u001b[39m ret \u001b[39m/\u001b[39;49m rcount\n\u001b[0;32m    196\u001b[0m \u001b[39mreturn\u001b[39;00m ret\n",
      "\u001b[1;31mTypeError\u001b[0m: unsupported operand type(s) for /: 'ellipsis' and 'int'"
     ]
    },
    {
     "data": {
      "image/png": "[encoded data removed]",
      "text/plain": [
       "<Figure size 640x480 with 1 Axes>"
      ]
     },
     "metadata": {},
     "output_type": "display_data"
    }
   ],
   "source": [
    "import matplotlib.pyplot as plt\n",
    "data = np.array(data).T.tolist()\n",
    "\n",
    "plt.boxplot(data, vert=False)  # vert=False makes it a horizontal box plot\n",
    "plt.title('Box Plot')\n",
    "plt.xlabel('Value')\n",
    "plt.show()"
   ]
  },
  {
   "cell_type": "code",
   "execution_count": 43,
   "metadata": {},
   "outputs": [
    {
     "name": "stdout",
     "output_type": "stream",
     "text": [
      "Min, Max, Range\n",
      "-1252\n",
      "1784\n",
      "3036\n",
      "Mode, Median, Mean\n",
      "363\n",
      "66.0\n",
      "76.88558139534884\n",
      "Q1, Q2, Q3\n",
      "-265.0\n",
      "66.0\n",
      "417.25\n"
     ]
    },
    {
     "data": {
      "image/png": "[encoded data removed]",
      "text/plain": [
       "<Figure size 640x480 with 1 Axes>"
      ]
     },
     "metadata": {},
     "output_type": "display_data"
    }
   ],
   "source": [
    "import pandas as pd\n",
    "\n",
    "# Read the CSV file into a DataFrame\n",
    "df = pd.read_csv('accuracy dark.csv')\n",
    "\n",
    "# df -= 6030000 # This is to normalise the value\n",
    "\n",
    "min_value = np.min(df)\n",
    "max_value = np.max(df)\n",
    "data_range = max_value - min_value\n",
    "\n",
    "print(\"Min, Max, Range\")\n",
    "print(min_value)\n",
    "print(max_value)\n",
    "print(data_range)\n",
    "\n",
    "# Calculate the mode, median, and mean for the entire dataset\n",
    "mode = df.stack().mode().iloc[0]  # Calculate the mode for the entire dataset\n",
    "median = df.stack().median()  # Calculate the median for the entire dataset\n",
    "mean = df.stack().mean()  # Calculate the mean for the entire dataset\n",
    "\n",
    "print(\"Mode, Median, Mean\")\n",
    "print(mode)\n",
    "print(median)\n",
    "print(mean)\n",
    "\n",
    "print(\"Q1, Q2, Q3\")\n",
    "Q1 = np.percentile(df, 25)\n",
    "Q2 = np.percentile(df, 50)  # This is the median\n",
    "Q3 = np.percentile(df, 75)\n",
    "\n",
    "print(Q1)\n",
    "print(Q2)\n",
    "print(Q3)\n",
    "\n",
    "import matplotlib.pyplot as plt\n",
    "\n",
    "stacked_data = df.values.ravel()\n",
    "\n",
    "plt.boxplot(stacked_data, vert=False, whis=1.5)  # vert=False makes it a horizontal box plot\n",
    "plt.title('Accuracy (Light)')\n",
    "plt.xlabel('Intenisty')\n",
    "plt.show()\n"
   ]
  }
 ],
 "metadata": {
  "kernelspec": {
   "display_name": "Python 3",
   "language": "python",
   "name": "python3"
  },
  "language_info": {
   "codemirror_mode": {
    "name": "ipython",
    "version": 3
   },
   "file_extension": ".py",
   "mimetype": "text/x-python",
   "name": "python",
   "nbconvert_exporter": "python",
   "pygments_lexer": "ipython3",
   "version": "3.10.6"
  }
 },
 "nbformat": 4,
 "nbformat_minor": 2
}
